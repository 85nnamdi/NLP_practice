{
  "nbformat": 4,
  "nbformat_minor": 0,
  "metadata": {
    "colab": {
      "name": "Untitled4.ipynb",
      "provenance": [],
      "authorship_tag": "ABX9TyNuGL1yP4QXjMoHYvHjA0/J",
      "include_colab_link": true
    },
    "kernelspec": {
      "name": "python3",
      "display_name": "Python 3"
    },
    "language_info": {
      "name": "python"
    }
  },
  "cells": [
    {
      "cell_type": "markdown",
      "metadata": {
        "id": "view-in-github",
        "colab_type": "text"
      },
      "source": [
        "<a href=\"https://colab.research.google.com/github/85nnamdi/NLP_practice/blob/master/textGenerator.ipynb\" target=\"_parent\"><img src=\"https://colab.research.google.com/assets/colab-badge.svg\" alt=\"Open In Colab\"/></a>"
      ]
    },
    {
      "cell_type": "markdown",
      "metadata": {
        "id": "WsQhTViv1FUd"
      },
      "source": [
        "Installation"
      ]
    },
    {
      "cell_type": "code",
      "metadata": {
        "id": "D7vAZD_a032O"
      },
      "source": [
        "!pip install transformers"
      ],
      "execution_count": null,
      "outputs": []
    },
    {
      "cell_type": "code",
      "metadata": {
        "id": "nDm-sjxB1EGQ"
      },
      "source": [
        "from transformers import GPT2LMHeadModel, GPT2Tokenizer\n"
      ],
      "execution_count": 4,
      "outputs": []
    },
    {
      "cell_type": "markdown",
      "metadata": {
        "id": "g3LNuAkz1VRl"
      },
      "source": [
        "#load model"
      ]
    },
    {
      "cell_type": "code",
      "metadata": {
        "id": "xoFhrNKq1TI5"
      },
      "source": [
        "tokenizer = GPT2Tokenizer.from_pretrained('gpt2-large')\n",
        "model = GPT2LMHeadModel.from_pretrained('gpt2-large',pad_token_id=tokenizer.eos_token_id)\n"
      ],
      "execution_count": null,
      "outputs": []
    },
    {
      "cell_type": "markdown",
      "metadata": {
        "id": "fPJT_aQe1Zb9"
      },
      "source": [
        "#tokenization step"
      ]
    },
    {
      "cell_type": "code",
      "metadata": {
        "id": "OuLgWqxm1cuC"
      },
      "source": [
        "sentence = \"Aristole was a great philosopher!\"\n",
        "input_id = tokenizer.encode(sentence, return_tensors='pt')\n"
      ],
      "execution_count": 6,
      "outputs": []
    },
    {
      "cell_type": "markdown",
      "metadata": {
        "id": "XRGPLqKB1s0J"
      },
      "source": [
        "#generate and decode text "
      ]
    },
    {
      "cell_type": "code",
      "metadata": {
        "id": "Q4Luhftc10g8"
      },
      "source": [
        "output_text = model.generate(input_id, max_length=500, num_beams=5, no_repeat_ngram_size=2, early_stopping=True)\n"
      ],
      "execution_count": 16,
      "outputs": []
    },
    {
      "cell_type": "code",
      "metadata": {
        "colab": {
          "base_uri": "https://localhost:8080/"
        },
        "id": "BVRB4hFU2Z6W",
        "outputId": "0f3bb0af-32f7-4e07-df27-c84da9fce9b4"
      },
      "source": [
        "output_text"
      ],
      "execution_count": 13,
      "outputs": [
        {
          "output_type": "execute_result",
          "data": {
            "text/plain": [
              "tensor([[   32,  1585,  2305,   373,   257,  1049, 23723,     0,   198,   198,\n",
              "          1544,   373,   262,  6000, 23723,   286,   477,   640,    13,   679,\n",
              "           373,   530,   286,   262,   749, 10457,  9017,   326,  1683,  5615,\n",
              "            11,   290,   339,   373,   635,   257,   582,   286,  1049, 11540,\n",
              "            13,   314,   836,   470,   760,   611,   345,  1053,  1683,  2982,\n",
              "           286,   683,    11,   475,   339,  2630,   257,  1492,  1444,   366,\n",
              "           464,  3683,   286,  1810,     1,   287,   543,   339,   531,    11,\n",
              "           366,  1532,   345,   765,   284,  1592,   257,  1175,    11,   345,\n",
              "           423,   284,  1833,   262,  4472,   526,   843,   326,   338,  3446,\n",
              "           644,   339,   750,    13,   843,   339,   635,   531,   326,   611]])"
            ]
          },
          "metadata": {
            "tags": []
          },
          "execution_count": 13
        }
      ]
    },
    {
      "cell_type": "markdown",
      "metadata": {
        "id": "hdrYO3VH12G6"
      },
      "source": [
        "#write output to text file"
      ]
    },
    {
      "cell_type": "code",
      "metadata": {
        "id": "DUiA8EkM11x5"
      },
      "source": [
        "text = tokenizer.decode(output_text[0], skip_special_tokens=True)\n",
        "with open('GeneratedText.txt', 'w') as f:\n",
        "    f.write(text)"
      ],
      "execution_count": 17,
      "outputs": []
    }
  ]
}